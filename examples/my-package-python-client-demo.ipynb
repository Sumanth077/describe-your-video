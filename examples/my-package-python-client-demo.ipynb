{
 "cells": [
  {
   "cell_type": "code",
   "execution_count": null,
   "metadata": {
    "pycharm": {
     "name": "#%%\n"
    }
   },
   "outputs": [],
   "source": [
    "%pip install --upgrade steamship==2.2.0b2"
   ]
  },
  {
   "cell_type": "code",
   "execution_count": null,
   "metadata": {
    "pycharm": {
     "name": "#%%\n"
    }
   },
   "outputs": [],
   "source": [
    "from steamship import Steamship"
   ]
  },
  {
   "cell_type": "markdown",
   "metadata": {},
   "source": [
    "# my-package Demo - Steamship Python Client\n",
    "\n",
    "This notebook provides an example of using `my-package` from Steamship's Python client.\n",
    "\n",
    "To authenticate with Steamship, install the Steamship CLI with:\n",
    "\n",
    "```bash\n",
    "> npm install -g @steamship/cli\n",
    "```\n",
    "\n",
    "And then login with:\n",
    "\n",
    "```bash\n",
    "> ship login\n",
    "```\n",
    "\n",
    "Note that this notebook uses the following Python dependencies not included in `requirements.txt`:\n",
    "\n",
    "* pandas"
   ]
  },
  {
   "cell_type": "code",
   "execution_count": null,
   "metadata": {
    "pycharm": {
     "name": "#%%\n"
    }
   },
   "outputs": [],
   "source": [
    "# This should match the value found in the `handle` field of `steamship.json`\n",
    "PACKAGE_HANDLE=\"TODO-FILL-IN\"\n",
    "\n",
    "# The handle of the particular instance of the package we'll be working with.\n",
    "INSTANCE_HANDLE = \"my-instance-13\""
   ]
  },
  {
   "cell_type": "code",
   "execution_count": null,
   "metadata": {},
   "outputs": [],
   "source": [
    "# Create an instance of the package. Credentials will be loaded from ~/.steamship.json\n",
    "instance = Steamship.use(PACKAGE_HANDLE, INSTANCE_HANDLE, config={\"default_name\": \"World\"})\n",
    "\n",
    "print(\n",
    "    f\"Created package instance {instance.handle} of {PACKAGE_HANDLE} in workspace {instance.client.config.workspace_handle or 'default'}\")"
   ]
  },
  {
   "cell_type": "code",
   "execution_count": null,
   "metadata": {
    "pycharm": {
     "name": "#%%\n"
    }
   },
   "outputs": [],
   "source": [
    "# Now let's use the package.\n",
    "response = instance.invoke(\"greet\")\n",
    "print(response)"
   ]
  },
  {
   "cell_type": "code",
   "execution_count": null,
   "metadata": {
    "pycharm": {
     "name": "#%%\n"
    }
   },
   "outputs": [],
   "source": []
  },
  {
   "cell_type": "code",
   "execution_count": null,
   "metadata": {
    "pycharm": {
     "name": "#%%\n"
    }
   },
   "outputs": [],
   "source": []
  }
 ],
 "metadata": {
  "kernelspec": {
   "display_name": "Python 3",
   "language": "python",
   "name": "python3"
  },
  "language_info": {
   "codemirror_mode": {
    "name": "ipython",
    "version": 2
   },
   "file_extension": ".py",
   "mimetype": "text/x-python",
   "name": "python",
   "nbconvert_exporter": "python",
   "pygments_lexer": "ipython2",
   "version": "2.7.6"
  }
 },
 "nbformat": 4,
 "nbformat_minor": 0
}
