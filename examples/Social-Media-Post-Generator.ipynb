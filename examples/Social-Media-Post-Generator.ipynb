{
 "cells": [
  {
   "cell_type": "markdown",
   "id": "8c91cddb",
   "metadata": {},
   "source": [
    "# Generate Description for your Youtube Video using Steamship's Audio Description Package \n",
    "\n",
    "This notebook demonstrates how to create and use the audio-description package.\n",
    "\n",
    "Transcribe, summarize, and generate post"
   ]
  },
  {
   "cell_type": "code",
   "execution_count": 1,
   "id": "071039ef",
   "metadata": {},
   "outputs": [
    {
     "name": "stdout",
     "output_type": "stream",
     "text": [
      "Requirement already satisfied: steamship===2.2.1 in /opt/anaconda3/lib/python3.9/site-packages (2.2.1)\n",
      "Requirement already satisfied: pydantic==1.10.2 in /opt/anaconda3/lib/python3.9/site-packages (from steamship===2.2.1) (1.10.2)\n",
      "Requirement already satisfied: toml==0.10.2 in /opt/anaconda3/lib/python3.9/site-packages (from steamship===2.2.1) (0.10.2)\n",
      "Requirement already satisfied: inflection==0.5.1 in /opt/anaconda3/lib/python3.9/site-packages (from steamship===2.2.1) (0.5.1)\n",
      "Requirement already satisfied: requests==2.28.1 in /opt/anaconda3/lib/python3.9/site-packages (from steamship===2.2.1) (2.28.1)\n",
      "Requirement already satisfied: fluent-logger==0.10.0 in /opt/anaconda3/lib/python3.9/site-packages (from steamship===2.2.1) (0.10.0)\n",
      "Requirement already satisfied: aiohttp==3.8.3 in /opt/anaconda3/lib/python3.9/site-packages (from steamship===2.2.1) (3.8.3)\n",
      "Requirement already satisfied: frozenlist>=1.1.1 in /opt/anaconda3/lib/python3.9/site-packages (from aiohttp==3.8.3->steamship===2.2.1) (1.2.0)\n",
      "Requirement already satisfied: yarl<2.0,>=1.0 in /opt/anaconda3/lib/python3.9/site-packages (from aiohttp==3.8.3->steamship===2.2.1) (1.6.3)\n",
      "Requirement already satisfied: charset-normalizer<3.0,>=2.0 in /opt/anaconda3/lib/python3.9/site-packages (from aiohttp==3.8.3->steamship===2.2.1) (2.0.4)\n",
      "Requirement already satisfied: attrs>=17.3.0 in /opt/anaconda3/lib/python3.9/site-packages (from aiohttp==3.8.3->steamship===2.2.1) (21.4.0)\n",
      "Requirement already satisfied: aiosignal>=1.1.2 in /opt/anaconda3/lib/python3.9/site-packages (from aiohttp==3.8.3->steamship===2.2.1) (1.2.0)\n",
      "Requirement already satisfied: multidict<7.0,>=4.5 in /opt/anaconda3/lib/python3.9/site-packages (from aiohttp==3.8.3->steamship===2.2.1) (5.2.0)\n",
      "Requirement already satisfied: async-timeout<5.0,>=4.0.0a3 in /opt/anaconda3/lib/python3.9/site-packages (from aiohttp==3.8.3->steamship===2.2.1) (4.0.1)\n",
      "Requirement already satisfied: msgpack>1.0 in /opt/anaconda3/lib/python3.9/site-packages (from fluent-logger==0.10.0->steamship===2.2.1) (1.0.2)\n",
      "Requirement already satisfied: typing-extensions>=4.1.0 in /opt/anaconda3/lib/python3.9/site-packages (from pydantic==1.10.2->steamship===2.2.1) (4.1.1)\n",
      "Requirement already satisfied: urllib3<1.27,>=1.21.1 in /opt/anaconda3/lib/python3.9/site-packages (from requests==2.28.1->steamship===2.2.1) (1.26.9)\n",
      "Requirement already satisfied: certifi>=2017.4.17 in /opt/anaconda3/lib/python3.9/site-packages (from requests==2.28.1->steamship===2.2.1) (2022.9.24)\n",
      "Requirement already satisfied: idna<4,>=2.5 in /opt/anaconda3/lib/python3.9/site-packages (from requests==2.28.1->steamship===2.2.1) (3.3)\n"
     ]
    }
   ],
   "source": [
    "\n",
    "!pip install steamship===2.2.1\n",
    "\n"
   ]
  },
  {
   "cell_type": "code",
   "execution_count": 3,
   "id": "4e468347",
   "metadata": {},
   "outputs": [],
   "source": [
    "\n",
    "\n",
    "from steamship import Steamship, PackageInstance, File, MimeTypes, Tag\n",
    "from steamship.base import TaskState\n",
    "\n",
    "import time"
   ]
  },
  {
   "cell_type": "markdown",
   "id": "2ce75060",
   "metadata": {},
   "source": [
    "## Constants\n",
    "\n",
    "#### Using this notebook requires a Steamship API key. If you do not have one, you can create one:"
   ]
  },
  {
   "cell_type": "markdown",
   "id": "2cf9bc84",
   "metadata": {},
   "source": [
    "\n",
    "\n",
    "https://app.steamship.com\n",
    "\n",
    "\n",
    "\n"
   ]
  },
  {
   "cell_type": "code",
   "execution_count": 4,
   "id": "545d0ba5",
   "metadata": {},
   "outputs": [],
   "source": [
    "\n",
    "# The globally unique name of the package. Think of this like an NPM or PyPI package name.\n",
    "PACKAGE_HANDLE = \"audio-description\"\n",
    "\n",
    "# The name that identifies the instance of the package we'll be working with.\n",
    "INSTANCE_HANDLE = \"audio-description-test\"\n"
   ]
  },
  {
   "cell_type": "markdown",
   "id": "5cf6cddd",
   "metadata": {},
   "source": [
    "# Authenticate with Steamship"
   ]
  },
  {
   "cell_type": "markdown",
   "id": "e4798445",
   "metadata": {},
   "source": [
    "Instantiate the Steamship Client and pass the \"API KEY\" manually to the Client."
   ]
  },
  {
   "cell_type": "code",
   "execution_count": 5,
   "id": "9bfaf463",
   "metadata": {},
   "outputs": [],
   "source": [
    "\n",
    "\n",
    "ship = Steamship(api_key=\"\")\n",
    "\n"
   ]
  },
  {
   "cell_type": "markdown",
   "id": "ee063321",
   "metadata": {},
   "source": [
    "# Create a new instance of the package"
   ]
  },
  {
   "cell_type": "markdown",
   "id": "2b81551b",
   "metadata": {},
   "source": [
    "Use the above instance to create an instance for the package and pass the PACKAGE_HANDLE & INSTANCE_HANDLE"
   ]
  },
  {
   "cell_type": "code",
   "execution_count": 6,
   "id": "de235c41",
   "metadata": {},
   "outputs": [
    {
     "name": "stdout",
     "output_type": "stream",
     "text": [
      "\n",
      "Invocation URL      : https://sumanth07.steamship.run/default/audio-description-test/\n",
      "Bearer Token        : 35739754-99DE-4585-86E4-DD10706414F3 \n",
      "Instance ID         : 907F240E-FE04-45C7-A33E-BFDD8CC184A9 \n",
      "Version ID          : 91A060D7-32AA-4903-8C1D-65B7C6F966AD \n",
      "App ID              : BFFBD686-AC34-4B26-AF79-600E03E9C350\n",
      "Workspace ID        : 057BB052-0583-4BA4-968C-1A80620947E3\n",
      "\n"
     ]
    }
   ],
   "source": [
    "instance = ship.use(package_handle = PACKAGE_HANDLE, instance_handle=INSTANCE_HANDLE)\n",
    "\n",
    "print(f\"\"\"\n",
    "{'Invocation URL': <20}: {instance.invocation_url}\n",
    "{'Bearer Token': <20}: {instance.client.config.api_key} \n",
    "{'Instance ID': <20}: {instance.id} \n",
    "{'Version ID': <20}: {instance.package_version_id} \n",
    "{'App ID': <20}: {instance.package_id}\n",
    "{'Workspace ID': <20}: {instance.workspace_id}\n",
    "\"\"\"\n",
    ")"
   ]
  },
  {
   "cell_type": "markdown",
   "id": "720cc60c",
   "metadata": {},
   "source": [
    "# Submitting a Youtube Video URL"
   ]
  },
  {
   "cell_type": "markdown",
   "id": "545cb658",
   "metadata": {},
   "source": [
    "The audio description package takes youtube video URL as an input.\n",
    "\n",
    "In the Variable below pass the YT Video Link, for which you want to generate the description"
   ]
  },
  {
   "cell_type": "code",
   "execution_count": 7,
   "id": "421b80c1",
   "metadata": {},
   "outputs": [],
   "source": [
    "\n",
    "\n",
    "url = \"https://youtu.be/0gNauGdOkro\"\n",
    "\n"
   ]
  },
  {
   "cell_type": "markdown",
   "id": "55864cd0",
   "metadata": {},
   "source": [
    "Now Invoke the \"analyze_youtube\" function and pass the url.\n",
    "\n",
    "The POST request triggers the asynchronous transcription and analysis of your video and stores the results in your workspace for future access.\n",
    "\n",
    "After submitting your POST request you will receive a response that includes a task_id and status key.\n",
    "\n",
    "The status key shows you the status of your analysis task. It will start with \"waiting\", and then proceed to \"processing\", and finally to \"completed\" or \"failed\"."
   ]
  },
  {
   "cell_type": "code",
   "execution_count": 8,
   "id": "1aa9dbe9",
   "metadata": {},
   "outputs": [
    {
     "name": "stdout",
     "output_type": "stream",
     "text": [
      "\n",
      "task ID: 30AE85D3-1944-476D-A9C0-F98A6751780F\n",
      "status: waiting\n",
      "\n"
     ]
    }
   ],
   "source": [
    "# Transcribe and get the summarized output\n",
    "\n",
    "transcribe_task = instance.invoke(\"analyze_youtube\", url=str(url))\n",
    "\n",
    "task_id = transcribe_task[\"task_id\"]\n",
    "status = transcribe_task[\"status\"]\n",
    "\n",
    "print(\n",
    "    f\"\"\"\n",
    "task ID: {task_id}\n",
    "status: {status}\n",
    "\"\"\"\n",
    ")"
   ]
  },
  {
   "cell_type": "markdown",
   "id": "d5fad266",
   "metadata": {},
   "source": [
    "## Retrieving the Results\n",
    "\n",
    "As your file is being processed the \"status\" will go from \"waiting\" to \"processing\" to \"completed\" or \"failed\". You can check in on the progress of your analysis task using the \"task_id\" by calling the get_status endpoint.\n",
    "\n",
    "You'll have to make repeated GET requests untill the status converges to \"completed\" or \"failed\". Once the status key is set to \"completed\", you'll see a file key that represents the video description.\n",
    "\n",
    "To facilitate future file retrieval Steamship will store and index the augmented transcription in your workspace."
   ]
  },
  {
   "cell_type": "code",
   "execution_count": 9,
   "id": "feef0984",
   "metadata": {},
   "outputs": [
    {
     "name": "stdout",
     "output_type": "stream",
     "text": [
      "[Try 0] Transcription succeeded.\n",
      "{'status': 'succeeded', 'task_id': '30AE85D3-1944-476D-A9C0-F98A6751780F', 'file': '\\n\\nReady to learn how Artificial Intelligence (AI) is making its mark on the world of online content creation? Check out my latest video to get the lowdown on this revolutionary technology and what it means for content creators! From understanding AI’s capabilities and limitations to exploring how it can (and can’t) be used to create content, this video is a must-watch for any content creator looking to stay ahead of the curve. #AI #ContentCreation #OnlineContent'}\n"
     ]
    }
   ],
   "source": [
    "\n",
    "\n",
    "retries = 0\n",
    "while retries <= 100 and status != TaskState.succeeded:\n",
    "    response = instance.invoke(\"status\", task_id=task_id)\n",
    "    status = response[\"status\"]\n",
    "    if status == TaskState.failed:\n",
    "        print(f\"[FAILED] {response['status_message']}\")\n",
    "        break\n",
    "\n",
    "    print(f\"[Try {retries}] Transcription {status}.\")\n",
    "    if status == TaskState.succeeded:\n",
    "        break\n",
    "    time.sleep(2)\n",
    "    retries += 1\n",
    "    \n",
    "    \n",
    "print(response)\n"
   ]
  },
  {
   "cell_type": "markdown",
   "id": "fa622492",
   "metadata": {},
   "source": [
    "# Getting the Generated Text from the Response"
   ]
  },
  {
   "cell_type": "code",
   "execution_count": 10,
   "id": "a251af90",
   "metadata": {},
   "outputs": [
    {
     "name": "stdout",
     "output_type": "stream",
     "text": [
      "\n",
      "\n",
      "Ready to learn how Artificial Intelligence (AI) is making its mark on the world of online content creation? Check out my latest video to get the lowdown on this revolutionary technology and what it means for content creators! From understanding AI’s capabilities and limitations to exploring how it can (and can’t) be used to create content, this video is a must-watch for any content creator looking to stay ahead of the curve. #AI #ContentCreation #OnlineContent\n"
     ]
    }
   ],
   "source": [
    "\n",
    "generated_text = response[\"file\"]\n",
    "print(generated_text)\n"
   ]
  },
  {
   "cell_type": "code",
   "execution_count": null,
   "id": "a8a630e2",
   "metadata": {},
   "outputs": [],
   "source": []
  }
 ],
 "metadata": {
  "kernelspec": {
   "display_name": "Python 3 (ipykernel)",
   "language": "python",
   "name": "python3"
  },
  "language_info": {
   "codemirror_mode": {
    "name": "ipython",
    "version": 3
   },
   "file_extension": ".py",
   "mimetype": "text/x-python",
   "name": "python",
   "nbconvert_exporter": "python",
   "pygments_lexer": "ipython3",
   "version": "3.9.12"
  }
 },
 "nbformat": 4,
 "nbformat_minor": 5
}
